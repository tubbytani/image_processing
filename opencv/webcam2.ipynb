{
 "cells": [
  {
   "cell_type": "code",
   "execution_count": 5,
   "metadata": {},
   "outputs": [],
   "source": [
    "import matplotlib.pyplot as plt\n",
    "import cv2\n",
    "import time\n",
    "import numpy as np"
   ]
  },
  {
   "cell_type": "code",
   "execution_count": 12,
   "metadata": {},
   "outputs": [],
   "source": [
    "#setting resolution"
   ]
  },
  {
   "cell_type": "code",
   "execution_count": 11,
   "metadata": {},
   "outputs": [
    {
     "name": "stdout",
     "output_type": "stream",
     "text": [
      "width:640.0\n",
      "hight480.0\n",
      "width:1280.0\n",
      "hight720.0\n"
     ]
    }
   ],
   "source": [
    "name=\"name\"\n",
    "cv2.namedWindow(name)\n",
    "cap=cv2.VideoCapture(0)\n",
    "print('width:' +  str(cap.get(3))) #3-for changing width . basically cap.get can chage webcam's output properties\n",
    "print('hight'  +  str(cap.get(4)))\n",
    "cap.set(3,5000)\n",
    "cap.set(4,5000)\n",
    "print('width:' +  str(cap.get(3)))#how much change can be done actually,max resolution\n",
    "print('hight'  +  str(cap.get(4)))\n",
    "if cap.isOpened():\n",
    "    ret,frame=cap.read() #reads the image\n",
    "else: \n",
    "      ret=False\n",
    "while ret:\n",
    "            ret,frame=cap.read()\n",
    "            output=cv2.cvtColor(frame,cv2.COLOR_BGR2GRAY) \n",
    "            cv2.imshow(\"GRAY\",output)\n",
    "            cv2.imshow(name,frame)\n",
    "            if cv2.waitKey(1)==27:\n",
    "                 break\n",
    "cv2.destroyAllWindows()\n",
    "cap.release()"
   ]
  },
  {
   "cell_type": "code",
   "execution_count": 13,
   "metadata": {},
   "outputs": [],
   "source": [
    "#saving the video feed(only video no audio)"
   ]
  },
  {
   "cell_type": "code",
   "execution_count": null,
   "metadata": {},
   "outputs": [],
   "source": []
  },
  {
   "cell_type": "code",
   "execution_count": 14,
   "metadata": {},
   "outputs": [],
   "source": [
    "name=\"name\"\n",
    "cv2.namedWindow(name)\n",
    "cap=cv2.VideoCapture(0)\n",
    "filename=\"vid.avi\"\n",
    "codec=cv2.VideoWriter_fourcc('W','M','V','2')#setting codec for compression and decompression #choose 4 character code\n",
    "framerate=30\n",
    "resolution=(640,380)\n",
    "VideoFileOutput=cv2.VideoWriter(filename,codec,framerate,resolution)\n",
    "if cap.isOpened():\n",
    "    ret,frame=cap.read()\n",
    "else: \n",
    "      ret=False\n",
    "while ret:\n",
    "            ret,frame=cap.read()\n",
    "            VideoFileOutput.write(frame)\n",
    "            cv2.imshow(name,frame)\n",
    "            if cv2.waitKey(1)==27:\n",
    "                 break\n",
    "cv2.destroyAllWindows()\n",
    "cap.release()"
   ]
  },
  {
   "cell_type": "code",
   "execution_count": 18,
   "metadata": {},
   "outputs": [],
   "source": [
    "#calculating fps"
   ]
  },
  {
   "cell_type": "code",
   "execution_count": 17,
   "metadata": {},
   "outputs": [
    {
     "name": "stdout",
     "output_type": "stream",
     "text": [
      "frames per second using cap.get(cv2.CAP_PROP_FPS):30.0 \n",
      "capturing 120 frames\n",
      "the time elapsed is 4.144906759262085\n",
      "the fps of the video is {0} 28.951194072544958\n"
     ]
    }
   ],
   "source": [
    "cap=cv2.VideoCapture(0)\n",
    "fps=cap.get(cv2.CAP_PROP_FPS)\n",
    "print(\"frames per second using cap.get(cv2.CAP_PROP_FPS):{0} \".format(fps))#dot format\n",
    "num_frames=120 #number of frmaes to capture\n",
    "print(\"capturing {0} frames\".format(num_frames))\n",
    "#start time\n",
    "start=time.time()\n",
    "for i in range(0,num_frames):\n",
    "     ret,frame=cap.read()\n",
    "end=time.time()\n",
    "seconds=end-start\n",
    "print(\"the time elapsed is {0}\".format(seconds))\n",
    "fps=num_frames/seconds\n",
    "print(\"the fps of the video is {0}\",format(fps))\n",
    "cap.release()"
   ]
  },
  {
   "cell_type": "code",
   "execution_count": 23,
   "metadata": {},
   "outputs": [],
   "source": [
    "#this is not working"
   ]
  },
  {
   "cell_type": "code",
   "execution_count": 39,
   "metadata": {},
   "outputs": [],
   "source": [
    "name=\"name\"\n",
    "cv2.namedWindow(name)\n",
    "filename=\"vid.avi\"\n",
    "cap=cv2.VideoCapture(filename)\n",
    "while (cap.isOpened()):\n",
    "    ret,frame=cap.read()\n",
    "    if ret:\n",
    "        cv2.imshow(name,frame)\n",
    "        if cv2.waitKey(43)==27:#the argument to be passed to waitkey is 100/fps\n",
    "                 break\n",
    "    else:\n",
    "        break\n",
    "cv2.destroyAllWindows()\n",
    "cap.release()"
   ]
  },
  {
   "cell_type": "code",
   "execution_count": 40,
   "metadata": {},
   "outputs": [],
   "source": [
    "#object tracking by color"
   ]
  },
  {
   "cell_type": "code",
   "execution_count": null,
   "metadata": {},
   "outputs": [],
   "source": [
    "#thresholds hsv image to get only blue"
   ]
  },
  {
   "cell_type": "code",
   "execution_count": 10,
   "metadata": {},
   "outputs": [],
   "source": [
    "cap=cv2.VideoCapture(0)\n",
    "if cap.isOpened():\n",
    "    ret,frame=cap.read() #reads the image\n",
    "else: \n",
    "      ret=False\n",
    "while ret:\n",
    "            ret,frame=cap.read()\n",
    "            hsv=cv2.cvtColor(frame,cv2.COLOR_BGR2HSV)\n",
    "            low=np.array([100,50,50])\n",
    "            high=np.array([140,255,255])\n",
    "            image_mask=cv2.inRange(hsv,low,high)#src lower_bound upper_bound converts blue to white else to black\n",
    "            output=cv2.bitwise_and(frame,frame,mask=image_mask) # and is done where mask!=0\n",
    "            cv2.imshow(\"image mask\",image_mask)\n",
    "            cv2.imshow(\"original webcam feed\",frame)\n",
    "            cv2.imshow(\"blue object\",output)\n",
    "            \n",
    "            if cv2.waitKey(1)==27:\n",
    "                 break\n",
    "cv2.destroyAllWindows()\n",
    "cap.release()"
   ]
  },
  {
   "cell_type": "code",
   "execution_count": 9,
   "metadata": {},
   "outputs": [
    {
     "name": "stdout",
     "output_type": "stream",
     "text": [
      "[[[ 60 255 255]]]\n"
     ]
    }
   ],
   "source": [
    "green = np.uint8([[[0,255,0 ]]])\n",
    "hsv_green = cv2.cvtColor(green,cv2.COLOR_BGR2HSV)\n",
    "print (hsv_green) #now use [H-10, 100,100] and [H+10, 255, 255] as lower bound and upper bound respectively"
   ]
  },
  {
   "cell_type": "code",
   "execution_count": null,
   "metadata": {},
   "outputs": [],
   "source": []
  }
 ],
 "metadata": {
  "kernelspec": {
   "display_name": "Python 3",
   "language": "python",
   "name": "python3"
  },
  "language_info": {
   "codemirror_mode": {
    "name": "ipython",
    "version": 3
   },
   "file_extension": ".py",
   "mimetype": "text/x-python",
   "name": "python",
   "nbconvert_exporter": "python",
   "pygments_lexer": "ipython3",
   "version": "3.7.7"
  }
 },
 "nbformat": 4,
 "nbformat_minor": 4
}
