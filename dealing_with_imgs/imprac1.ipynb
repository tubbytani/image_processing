{
 "cells": [
  {
   "cell_type": "code",
   "execution_count": null,
   "metadata": {},
   "outputs": [],
   "source": [
    "%matplotlib inline\n",
    "import numpy as np\n",
    "import matplotlib.pyplot as plt"
   ]
  },
  {
   "cell_type": "code",
   "execution_count": null,
   "metadata": {},
   "outputs": [],
   "source": [
    "#imread only deals with png files for others you need pillow "
   ]
  },
  {
   "cell_type": "code",
   "execution_count": null,
   "metadata": {},
   "outputs": [],
   "source": [
    "img1=plt.imread(r'C:\\Users\\new\\Documents\\Python\\texmos3b.p512.tiff')\n",
    "plt.title('img1')\n",
    "plt.imshow(img1)\n",
    "print(img1.shape)\n",
    "#plt.axis(\"off\")"
   ]
  },
  {
   "cell_type": "code",
   "execution_count": null,
   "metadata": {},
   "outputs": [],
   "source": [
    "plt.imsave(r'C:\\Users\\new\\Documents\\Python\\yay.tiff',img1)"
   ]
  },
  {
   "cell_type": "code",
   "execution_count": null,
   "metadata": {},
   "outputs": [],
   "source": [
    "img1=plt.imread(r'C:\\Users\\new\\Documents\\Python\\texmos3b.p512.tiff')\n",
    "plt.title('img1')\n",
    "plt.imshow(img1,cmap='gray')\n",
    "#plt.axis(\"off\")"
   ]
  },
  {
   "cell_type": "code",
   "execution_count": null,
   "metadata": {},
   "outputs": [],
   "source": [
    "img2=plt.imread(r'C:\\Users\\new\\Documents\\Python\\hi.tif')\n",
    "img1=plt.imread(r'C:\\Users\\new\\Documents\\Python\\yay.tiff')\n",
    "#print(img) shows array showing intensity of each pixel\n",
    "#properties\n",
    "print(type(img1))\n",
    "print(img1.shape)\n",
    "print(img2.shape)\n",
    "print(img1.size)\n",
    "print(img1.ndim)\n",
    "print(img1.dtype)\n",
    "print(img1.nbytes)"
   ]
  },
  {
   "cell_type": "code",
   "execution_count": null,
   "metadata": {},
   "outputs": [],
   "source": [
    "print(img2[10,10,1]) #as it is 2 elt. array"
   ]
  },
  {
   "cell_type": "code",
   "execution_count": null,
   "metadata": {},
   "outputs": [],
   "source": [
    "print(img1[10,10,3]) #1,2,3 only"
   ]
  },
  {
   "cell_type": "code",
   "execution_count": null,
   "metadata": {},
   "outputs": [],
   "source": [
    "#image statistics"
   ]
  },
  {
   "cell_type": "code",
   "execution_count": null,
   "metadata": {},
   "outputs": [],
   "source": [
    "print(img1.min())\n",
    "print(img1.max())\n",
    "print(img1.mean())"
   ]
  },
  {
   "cell_type": "code",
   "execution_count": null,
   "metadata": {},
   "outputs": [],
   "source": [
    "print(np.average(img2))\n",
    "print(np.median(img2))\n",
    "print(np.var(img2))\n",
    "print(np.std(img2))\n",
    "print(np.mean(img2))"
   ]
  },
  {
   "cell_type": "code",
   "execution_count": null,
   "metadata": {},
   "outputs": [],
   "source": [
    "#image masks"
   ]
  },
  {
   "cell_type": "code",
   "execution_count": null,
   "metadata": {},
   "outputs": [],
   "source": [
    "nrows,ncols,channel=img1.shape\n",
    "x1,y1=np.ogrid[:nrows,:ncols]\n",
    "c_row,c_col=nrows/2,ncols/2\n",
    "mask1=(x1-c_row)**2+(y1-c_col)**2 > (nrows/2)**2\n",
    "img1.setflags(write=1)\n",
    "img1[mask1]=0\n",
    "plt.imshow(img1)"
   ]
  },
  {
   "cell_type": "code",
   "execution_count": null,
   "metadata": {},
   "outputs": [],
   "source": [
    "nrows,ncols,channel=img2.shape\n",
    "x1,y1=np.ogrid[:nrows,:ncols]\n",
    "c_row,c_col=nrows/2,ncols/2\n",
    "mask1=(x1-c_row)**2+(y1-c_col)**2 < (nrows/2)**2\n",
    "img1.setflags(write=1)\n",
    "img1[mask1]=0\n",
    "plt.imshow(img1)"
   ]
  },
  {
   "cell_type": "code",
   "execution_count": null,
   "metadata": {},
   "outputs": [],
   "source": [
    "plt.imsave(r'C:\\Users\\new\\Documents\\Python\\wow.tiff',img2)"
   ]
  },
  {
   "cell_type": "code",
   "execution_count": null,
   "metadata": {},
   "outputs": [],
   "source": [
    "img2=plt.imread(r'C:\\Users\\new\\Documents\\Python\\wow.tiff')\n",
    "plt.imshow(img2)\n",
    "print(img2.shape)"
   ]
  },
  {
   "cell_type": "code",
   "execution_count": null,
   "metadata": {},
   "outputs": [],
   "source": [
    "nrows,ncols,channel=img2.shape\n",
    "x1,y1=np.ogrid[:nrows,:ncols]\n",
    "c_row,c_col=nrows/2,ncols/2\n",
    "mask2=(x1-c_row)**2+(y1-c_col)**2 < (nrows/2)**2\n",
    "img2.setflags(write=1)\n",
    "img2[mask2]=0\n",
    "plt.imshow(img2) #finallyy im crying :)"
   ]
  },
  {
   "cell_type": "code",
   "execution_count": null,
   "metadata": {},
   "outputs": [],
   "source": [
    "nrows,ncols,channel=img2.shape\n",
    "x1,y1=np.ogrid[:nrows,:ncols]\n",
    "c_row,c_col=nrows/2,ncols/2\n",
    "mask2=(x1-c_row)**2+(y1-c_col)**2 < (nrows/2)**2\n",
    "img2.setflags(write=1)\n",
    "img2[mask2]=150\n",
    "plt.imshow(img2) "
   ]
  },
  {
   "cell_type": "code",
   "execution_count": null,
   "metadata": {},
   "outputs": [],
   "source": []
  }
 ],
 "metadata": {
  "kernelspec": {
   "display_name": "Python 3",
   "language": "python",
   "name": "python3"
  },
  "language_info": {
   "codemirror_mode": {
    "name": "ipython",
    "version": 3
   },
   "file_extension": ".py",
   "mimetype": "text/x-python",
   "name": "python",
   "nbconvert_exporter": "python",
   "pygments_lexer": "ipython3",
   "version": "3.7.7"
  }
 },
 "nbformat": 4,
 "nbformat_minor": 4
}
