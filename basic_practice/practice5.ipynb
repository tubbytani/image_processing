{
 "cells": [
  {
   "cell_type": "code",
   "execution_count": null,
   "metadata": {},
   "outputs": [],
   "source": [
    "#bitwise operations"
   ]
  },
  {
   "cell_type": "code",
   "execution_count": 2,
   "metadata": {},
   "outputs": [],
   "source": [
    "import numpy as np"
   ]
  },
  {
   "cell_type": "code",
   "execution_count": 10,
   "metadata": {},
   "outputs": [
    {
     "name": "stdout",
     "output_type": "stream",
     "text": [
      "[1 2 1] [0 1 0]\n",
      "[0 0 0]\n",
      "[1 3 1]\n",
      "[1 3 1]\n",
      "[254 253 254]\n"
     ]
    }
   ],
   "source": [
    "x=np.array([1,2,1],dtype=np.uint8)\n",
    "y=np.array([0,1,0],dtype=np.uint8)\n",
    "print(x,y)\n",
    "print(np.bitwise_and(x,y))\n",
    "print(np.bitwise_or(x,y))\n",
    "print(np.bitwise_xor(x,y))\n",
    "print(np.bitwise_not(x))"
   ]
  },
  {
   "cell_type": "code",
   "execution_count": 11,
   "metadata": {},
   "outputs": [],
   "source": [
    "#statistical functions"
   ]
  },
  {
   "cell_type": "code",
   "execution_count": 16,
   "metadata": {},
   "outputs": [
    {
     "name": "stdout",
     "output_type": "stream",
     "text": [
      "1.0\n",
      "1.3333333333333333\n",
      "1.333333\n",
      "1.333\n"
     ]
    }
   ],
   "source": [
    "print(np.median(x))\n",
    "print(np.average(x)) \n",
    "print(format(np.average(x),'3f'))\n",
    "print(round(np.average(x),3))"
   ]
  },
  {
   "cell_type": "code",
   "execution_count": 17,
   "metadata": {},
   "outputs": [],
   "source": [
    "#simalarly  np.mean,np.std(std deviation),np.var(variance)"
   ]
  },
  {
   "cell_type": "code",
   "execution_count": 18,
   "metadata": {},
   "outputs": [
    {
     "name": "stdout",
     "output_type": "stream",
     "text": [
      "(array([2, 0, 0, 0, 0, 0, 0, 0, 0, 1], dtype=int64), array([1. , 1.1, 1.2, 1.3, 1.4, 1.5, 1.6, 1.7, 1.8, 1.9, 2. ]))\n"
     ]
    }
   ],
   "source": [
    "print(np.histogram(x)) #it gives array of frequency and ranges  "
   ]
  },
  {
   "cell_type": "code",
   "execution_count": 19,
   "metadata": {},
   "outputs": [],
   "source": [
    "# trying on 2d array"
   ]
  },
  {
   "cell_type": "code",
   "execution_count": 20,
   "metadata": {},
   "outputs": [
    {
     "name": "stdout",
     "output_type": "stream",
     "text": [
      "[[1 2 3]\n",
      " [4 5 6]]\n"
     ]
    }
   ],
   "source": [
    "c=np.array([[1,2,3],[4,5,6]],np.uint8)\n",
    "print(c)"
   ]
  },
  {
   "cell_type": "code",
   "execution_count": 21,
   "metadata": {},
   "outputs": [
    {
     "name": "stdout",
     "output_type": "stream",
     "text": [
      "3.5\n",
      "3.5\n",
      "3.500000\n",
      "3.5\n",
      "(array([1, 0, 1, 0, 1, 0, 1, 0, 1, 1], dtype=int64), array([1. , 1.5, 2. , 2.5, 3. , 3.5, 4. , 4.5, 5. , 5.5, 6. ]))\n"
     ]
    }
   ],
   "source": [
    "print(np.median(c))\n",
    "print(np.average(c)) \n",
    "print(format(np.average(c),'3f'))\n",
    "print(round(np.average(c),3))\n",
    "print(np.histogram(c))"
   ]
  },
  {
   "cell_type": "code",
   "execution_count": null,
   "metadata": {},
   "outputs": [],
   "source": []
  }
 ],
 "metadata": {
  "kernelspec": {
   "display_name": "Python 3",
   "language": "python",
   "name": "python3"
  },
  "language_info": {
   "codemirror_mode": {
    "name": "ipython",
    "version": 3
   },
   "file_extension": ".py",
   "mimetype": "text/x-python",
   "name": "python",
   "nbconvert_exporter": "python",
   "pygments_lexer": "ipython3",
   "version": "3.7.7"
  }
 },
 "nbformat": 4,
 "nbformat_minor": 4
}
